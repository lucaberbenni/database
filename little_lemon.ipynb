{
 "cells": [
  {
   "cell_type": "code",
   "execution_count": 65,
   "metadata": {},
   "outputs": [],
   "source": [
    "import mysql.connector as connector\n",
    "from mysql.connector.pooling import MySQLConnectionPool\n",
    "from mysql.connector import Error"
   ]
  },
  {
   "cell_type": "code",
   "execution_count": 49,
   "metadata": {},
   "outputs": [],
   "source": [
    "connection = connector.connect(\n",
    "    user=\"root\", \n",
    "    password=\"root\"\n",
    ")"
   ]
  },
  {
   "cell_type": "code",
   "execution_count": 50,
   "metadata": {},
   "outputs": [],
   "source": [
    "cursor = connection.cursor()"
   ]
  },
  {
   "cell_type": "code",
   "execution_count": 51,
   "metadata": {},
   "outputs": [],
   "source": [
    "# Attempt to create the database 'little_lemon_db'.\n",
    "# If it already exists, the code first drops the existing database and then recreates it.\n",
    "\n",
    "try:\n",
    "    cursor.execute(\n",
    "        \"CREATE DATABASE little_lemon_db\"\n",
    "    )\n",
    "except:\n",
    "    cursor.execute(\n",
    "        \"DROP DATABASE little_lemon_db\"\n",
    "    )\n",
    "    cursor.execute(\n",
    "        \"CREATE DATABASE little_lemon_db\"\n",
    "    )\n"
   ]
  },
  {
   "cell_type": "code",
   "execution_count": 52,
   "metadata": {},
   "outputs": [],
   "source": [
    "cursor.execute(\n",
    "    \"USE little_lemon_db\"\n",
    ")"
   ]
  },
  {
   "cell_type": "code",
   "execution_count": 53,
   "metadata": {},
   "outputs": [],
   "source": [
    "create_menuitem_table = \"\"\"CREATE TABLE MenuItems (\n",
    "ItemID INT AUTO_INCREMENT,\n",
    "Name VARCHAR(200),\n",
    "Type VARCHAR(100),\n",
    "Price INT,\n",
    "PRIMARY KEY (ItemID)\n",
    ");\"\"\"\n",
    "\n",
    "cursor.execute(create_menuitem_table)\n",
    "\n",
    "insert_menuitems=\"\"\"\n",
    "INSERT INTO MenuItems (ItemID, Name, Type, Price)\n",
    "VALUES\n",
    "(1, 'Olives','Starters',5),\n",
    "(2, 'Flatbread','Starters', 5),\n",
    "(3, 'Minestrone', 'Starters', 8),\n",
    "(4, 'Tomato bread','Starters', 8),\n",
    "(5, 'Falafel', 'Starters', 7),\n",
    "(6, 'Hummus', 'Starters', 5),\n",
    "(7, 'Greek salad', 'Main Courses', 15),\n",
    "(8, 'Bean soup', 'Main Courses', 12),\n",
    "(9, 'Pizza', 'Main Courses', 15),\n",
    "(10, 'Greek yoghurt','Desserts', 7),\n",
    "(11, 'Ice cream', 'Desserts', 6),\n",
    "(12, 'Cheesecake', 'Desserts', 4),\n",
    "(13, 'Athens White wine', 'Drinks', 25),\n",
    "(14, 'Corfu Red Wine', 'Drinks', 30),\n",
    "(15, 'Turkish Coffee', 'Drinks', 10),\n",
    "(16, 'Turkish Coffee', 'Drinks', 10),\n",
    "(17, 'Kabasa', 'Main Courses', 17);\"\"\"\n",
    "\n",
    "cursor.execute(insert_menuitems)\n",
    "connection.commit()"
   ]
  },
  {
   "cell_type": "code",
   "execution_count": 54,
   "metadata": {},
   "outputs": [],
   "source": [
    "create_menu_table = \"\"\"CREATE TABLE Menus (\n",
    "MenuID INT,\n",
    "ItemID INT,\n",
    "Cuisine VARCHAR(100),\n",
    "PRIMARY KEY (MenuID,ItemID)\n",
    ");\"\"\"\n",
    "\n",
    "cursor.execute(create_menu_table)\n",
    "\n",
    "insert_menu=\"\"\"\n",
    "INSERT INTO Menus (MenuID,ItemID,Cuisine)\n",
    "VALUES\n",
    "(1, 1, 'Greek'),\n",
    "(1, 7, 'Greek'),\n",
    "(1, 10, 'Greek'),\n",
    "(1, 13, 'Greek'),\n",
    "(2, 3, 'Italian'),\n",
    "(2, 9, 'Italian'),\n",
    "(2, 12, 'Italian'),\n",
    "(2, 15, 'Italian'),\n",
    "(3, 5, 'Turkish'),\n",
    "(3, 17, 'Turkish'),\n",
    "(3, 11, 'Turkish'),\n",
    "(3, 16, 'Turkish');\"\"\"\n",
    "\n",
    "cursor.execute(insert_menu)\n",
    "connection.commit()"
   ]
  },
  {
   "cell_type": "code",
   "execution_count": 55,
   "metadata": {},
   "outputs": [],
   "source": [
    "create_booking_table = \"\"\"CREATE TABLE Bookings (\n",
    "BookingID INT AUTO_INCREMENT,\n",
    "TableNo INT,\n",
    "GuestFirstName VARCHAR(100) NOT NULL,\n",
    "GuestLastName VARCHAR(100) NOT NULL,\n",
    "BookingSlot TIME NOT NULL,\n",
    "EmployeeID INT,\n",
    "PRIMARY KEY (BookingID)\n",
    ");\"\"\"\n",
    "\n",
    "cursor.execute(create_booking_table)\n",
    "\n",
    "insert_bookings=\"\"\"\n",
    "INSERT INTO Bookings (BookingID, TableNo, GuestFirstName, \n",
    "GuestLastName, BookingSlot, EmployeeID)\n",
    "VALUES\n",
    "(1, 12, 'Anna','Iversen','19:00:00',1),\n",
    "(2, 12, 'Joakim', 'Iversen', '19:00:00', 1),\n",
    "(3, 19, 'Vanessa', 'McCarthy', '15:00:00', 3),\n",
    "(4, 15, 'Marcos', 'Romero', '17:30:00', 4),\n",
    "(5, 5, 'Hiroki', 'Yamane', '18:30:00', 2),\n",
    "(6, 8, 'Diana', 'Pinto', '20:00:00', 5);\"\"\"\n",
    "\n",
    "cursor.execute(insert_bookings)\n",
    "connection.commit()"
   ]
  },
  {
   "cell_type": "code",
   "execution_count": 56,
   "metadata": {},
   "outputs": [],
   "source": [
    "create_orders_table = \"\"\"CREATE TABLE Orders (\n",
    "OrderID INT,\n",
    "TableNo INT,\n",
    "MenuID INT,\n",
    "BookingID INT,\n",
    "BillAmount INT,\n",
    "Quantity INT,\n",
    "PRIMARY KEY (OrderID,TableNo)\n",
    ");\"\"\"\n",
    "\n",
    "cursor.execute(create_orders_table)\n",
    "\n",
    "insert_orders=\"\"\"\n",
    "INSERT INTO Orders (OrderID, TableNo, MenuID, BookingID, Quantity, BillAmount)\n",
    "VALUES\n",
    "(1, 12, 1, 1, 2, 86),\n",
    "(2, 19, 2, 2, 1, 37),\n",
    "(3, 15, 2, 3, 1, 37),\n",
    "(4, 5, 3, 4, 1, 40),\n",
    "(5, 8, 1, 5, 1, 43);\"\"\"\n",
    "\n",
    "cursor.execute(insert_orders)\n",
    "connection.commit()"
   ]
  },
  {
   "cell_type": "code",
   "execution_count": 57,
   "metadata": {},
   "outputs": [],
   "source": [
    "create_employees_table = \"\"\"CREATE TABLE Employees (\n",
    "EmployeeID INT AUTO_INCREMENT PRIMARY KEY,\n",
    "Name VARCHAR (255),\n",
    "Role VARCHAR (100),\n",
    "Address VARCHAR (255),\n",
    "Contact_Number INT,\n",
    "Email VARCHAR (255),\n",
    "Annual_Salary VARCHAR (100)\n",
    ");\"\"\"\n",
    "\n",
    "cursor.execute(create_employees_table)\n",
    "\n",
    "insert_employees = \"\"\"\n",
    "INSERT INTO employees (EmployeeID, Name, Role, Address, Contact_Number, Email, Annual_Salary)\n",
    "VALUES\n",
    "(01,'Mario Gollini','Manager','724, Parsley Lane, Old Town, Chicago, IL',351258074,'Mario.g@littlelemon.com','$70,000'),\n",
    "(02,'Adrian Gollini','Assistant Manager','334, Dill Square, Lincoln Park, Chicago, IL',351474048,'Adrian.g@littlelemon.com','$65,000'),\n",
    "(03,'Giorgos Dioudis','Head Chef','879 Sage Street, West Loop, Chicago, IL',351970582,'Giorgos.d@littlelemon.com','$50,000'),\n",
    "(04,'Fatma Kaya','Assistant Chef','132  Bay Lane, Chicago, IL',351963569,'Fatma.k@littlelemon.com','$45,000'),\n",
    "(05,'Elena Salvai','Head Waiter','989 Thyme Square, EdgeWater, Chicago, IL',351074198,'Elena.s@littlelemon.com','$40,000'),\n",
    "(06,'John Millar','Receptionist','245 Dill Square, Lincoln Park, Chicago, IL',351584508,'John.m@littlelemon.com','$35,000');\"\"\"\n",
    "\n",
    "cursor.execute(insert_employees)\n",
    "connection.commit()"
   ]
  },
  {
   "cell_type": "code",
   "execution_count": 59,
   "metadata": {},
   "outputs": [
    {
     "name": "stdout",
     "output_type": "stream",
     "text": [
      "Connection pool created with name pool_a.\n",
      "Pool size 2\n"
     ]
    }
   ],
   "source": [
    "# Set up a connection pool named 'pool_a' with a maximum size of 2.\n",
    "# This allows multiple connections to the database without needing to establish a new connection each time.\n",
    "\n",
    "db_config = {\n",
    "    'database' : 'little_lemon_db', \n",
    "    'user' : 'root', \n",
    "    'password' : 'root'\n",
    "}\n",
    "\n",
    "try:\n",
    "    pool = MySQLConnectionPool(pool_name='pool_a', \n",
    "                               pool_size=2, \n",
    "                               **db_config)\n",
    "    print('Connection pool created with name {}.\\nPool size {}'. format(pool.pool_name, pool.pool_size))\n",
    "except Error as err:\n",
    "    print('Error code: {}.\\nError message:'.format(err.errno, err.msg))"
   ]
  },
  {
   "cell_type": "code",
   "execution_count": 60,
   "metadata": {},
   "outputs": [
    {
     "name": "stdout",
     "output_type": "stream",
     "text": [
      "conn_1 object created with connection from the pool\n"
     ]
    }
   ],
   "source": [
    "conn_1 = pool.get_connection()\n",
    "print('conn_1 object created with connection from the pool')"
   ]
  },
  {
   "cell_type": "code",
   "execution_count": 61,
   "metadata": {},
   "outputs": [],
   "source": [
    "cursor = conn_1.cursor()"
   ]
  },
  {
   "cell_type": "code",
   "execution_count": 62,
   "metadata": {},
   "outputs": [
    {
     "name": "stdout",
     "output_type": "stream",
     "text": [
      "['Booking_hour', 'Booking_no']\n",
      "(19, 2)\n",
      "(15, 1)\n",
      "(17, 1)\n",
      "(18, 1)\n",
      "(20, 1)\n"
     ]
    }
   ],
   "source": [
    "cursor.execute(\n",
    "    \"DROP PROCEDURE IF EXISTS PeakHours;\"\n",
    ")\n",
    "\n",
    "# Define a stored procedure 'PeakHours' that retrieves the peak booking hours.\n",
    "# The procedure groups bookings by hour and counts the number of bookings for each hour.\n",
    "# Results are then ordered by the number of bookings in descending order.\n",
    "\n",
    "peak_hours = \"\"\"\n",
    "CREATE PROCEDURE PeakHours()\n",
    "\n",
    "BEGIN\n",
    "\n",
    "SELECT HOUR(BookingSlot) AS Booking_hour, COUNT(HOUR(BookingSlot)) AS Booking_no\n",
    "FROM Bookings\n",
    "GROUP BY Booking_hour\n",
    "ORDER BY Booking_no DESC;\n",
    "\n",
    "END\n",
    "\"\"\"\n",
    "\n",
    "cursor.execute(peak_hours)\n",
    "cursor.callproc('PeakHours')\n",
    "\n",
    "results = next(cursor.stored_results())\n",
    "dataset = results.fetchall()\n",
    "\n",
    "for column_id in cursor.stored_results():\n",
    "    columns = [column[0] for column in column_id.description]\n",
    "\n",
    "print(columns)\n",
    "for i in dataset:\n",
    "    print(i)"
   ]
  },
  {
   "cell_type": "code",
   "execution_count": 63,
   "metadata": {},
   "outputs": [
    {
     "name": "stdout",
     "output_type": "stream",
     "text": [
      "['OrderNo', 'GuestName', 'Employee', 'Status']\n",
      "(1, 'Anna Iversen', 'Manager', 'Ready to pay')\n",
      "(2, 'Joakim Iversen', 'Manager', 'Ready to pay')\n",
      "(3, 'Vanessa McCarthy', 'Head Chef', 'Ready to serve')\n",
      "(4, 'Marcos Romero', 'Assistant Chef', 'Preparing order')\n",
      "(5, 'Hiroki Yamane', 'Assistant Manager', 'Ready to pay')\n",
      "(6, 'Diana Pinto', 'Head Waiter', 'Order served')\n"
     ]
    }
   ],
   "source": [
    "cursor.execute(\n",
    "    \"DROP PROCEDURE IF EXISTS GuestStatus;\"\n",
    ")\n",
    "\n",
    "# Define a stored procedure 'GuestStatus' that retrieves the status of guests based on the role of the employee handling the booking.\n",
    "# It joins the 'Bookings' and 'Employees' tables on the EmployeeID.\n",
    "# The CASE statement determines the status of each booking based on the role of the employee.\n",
    "\n",
    "guest_status = \"\"\"\n",
    "CREATE PROCEDURE GuestStatus()\n",
    "\n",
    "BEGIN\n",
    "\n",
    "SELECT\n",
    "Bookings.BookingID AS OrderNo, \n",
    "CONCAT(Bookings.GuestFirstName, ' ', Bookings.GuestLastName) AS GuestName, \n",
    "Employees.Role AS Employee, \n",
    "CASE\n",
    "WHEN Employees.Role IN ('Manager', 'Assistant Manager') THEN \"Ready to pay\"\n",
    "WHEN Employees.Role = 'Head Chef' THEN \"Ready to serve\"\n",
    "WHEN Employees.Role = 'Assistant Chef' THEN \"Preparing order\"\n",
    "WHEN Employees.Role = 'Head Waiter' THEN \"Order served\" \n",
    "ELSE \"Pending\" \n",
    "END AS Status\n",
    "\n",
    "FROM\n",
    "Bookings\n",
    "\n",
    "LEFT JOIN\n",
    "Employees\n",
    "ON Employees.EmployeeID = Bookings.EmployeeID;\n",
    "\n",
    "END\n",
    "\"\"\"\n",
    "\n",
    "cursor.execute(guest_status)\n",
    "cursor.callproc('GuestStatus')\n",
    "\n",
    "results = next(cursor.stored_results())\n",
    "dataset = results.fetchall()\n",
    "\n",
    "for column_id in cursor.stored_results():\n",
    "    columns = [column[0] for column in column_id.description]\n",
    "\n",
    "print(columns)\n",
    "for i in dataset:\n",
    "    print(i)"
   ]
  },
  {
   "cell_type": "code",
   "execution_count": 64,
   "metadata": {},
   "outputs": [],
   "source": [
    "conn_1.close()"
   ]
  }
 ],
 "metadata": {
  "kernelspec": {
   "display_name": "tf",
   "language": "python",
   "name": "python3"
  },
  "language_info": {
   "codemirror_mode": {
    "name": "ipython",
    "version": 3
   },
   "file_extension": ".py",
   "mimetype": "text/x-python",
   "name": "python",
   "nbconvert_exporter": "python",
   "pygments_lexer": "ipython3",
   "version": "3.9.16"
  },
  "orig_nbformat": 4
 },
 "nbformat": 4,
 "nbformat_minor": 2
}
