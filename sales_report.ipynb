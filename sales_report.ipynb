{
 "cells": [
  {
   "cell_type": "code",
   "execution_count": 28,
   "metadata": {},
   "outputs": [],
   "source": [
    "import mysql.connector as connector\n",
    "from mysql.connector.pooling import MySQLConnectionPool\n",
    "from mysql.connector import Error"
   ]
  },
  {
   "cell_type": "code",
   "execution_count": 29,
   "metadata": {},
   "outputs": [
    {
     "name": "stdout",
     "output_type": "stream",
     "text": [
      "Connection pool named pool_b created with size 2\n"
     ]
    }
   ],
   "source": [
    "# Establish a connection pool named 'pool_b' with a maximum size of 2.\n",
    "# Connection pooling allows multiple database connections without needing to re-establish a new connection each time.\n",
    "\n",
    "db_config ={\n",
    "    'database' : 'little_lemon_db', \n",
    "    'user' : 'root', \n",
    "    'password' : 'root'\n",
    "}\n",
    "\n",
    "try:\n",
    "    pool = MySQLConnectionPool(\n",
    "        pool_name='pool_b', \n",
    "        pool_size=2, \n",
    "        **db_config\n",
    "    )\n",
    "    print('Connection pool named {} created with size {}'.format(pool.pool_name, pool.pool_size))\n",
    "except Error as err:\n",
    "    print('Error code {}. \\nError message'.format(err.errno, err.msg))\n"
   ]
  },
  {
   "cell_type": "code",
   "execution_count": 30,
   "metadata": {},
   "outputs": [
    {
     "name": "stdout",
     "output_type": "stream",
     "text": [
      "New booking added on Bookings table\n"
     ]
    }
   ],
   "source": [
    "# Using the first pooled connection (conn_1) to add a new booking entry to the 'Bookings' table.\n",
    "\n",
    "conn_1 = pool.get_connection()\n",
    "cursor_1 = conn_1.cursor()\n",
    "\n",
    "booking_1 = \"\"\"\n",
    "INSERT INTO Bookings\n",
    "(TableNo, GuestFirstName, GuestLastName, BookingSlot, EmployeeID)\n",
    "VALUES\n",
    "(8, 'Anees', 'Java', '18:00:00', 6)\n",
    "\"\"\"\n",
    "\n",
    "cursor_1.execute(booking_1)\n",
    "conn_1.commit()\n",
    "\n",
    "print('New booking added on Bookings table')"
   ]
  },
  {
   "cell_type": "code",
   "execution_count": 31,
   "metadata": {},
   "outputs": [
    {
     "name": "stdout",
     "output_type": "stream",
     "text": [
      "New booking added on Bookings table\n"
     ]
    }
   ],
   "source": [
    "# Using the second pooled connection (conn_2) to add another booking entry to the 'Bookings' table.\n",
    "\n",
    "conn_2 = pool.get_connection()\n",
    "cursor_2 = conn_2.cursor()\n",
    "\n",
    "booking_2 = \"\"\"\n",
    "INSERT INTO Bookings\n",
    "(TableNo, GuestFirstName, GuestLastName, BookingSlot, EmployeeID)\n",
    "VALUES\n",
    "(5, 'Bald','Vin','19:00:00',6)\n",
    "\"\"\"\n",
    "\n",
    "cursor_2.execute(booking_2)\n",
    "conn_2.commit()\n",
    "print('New booking added on Bookings table')"
   ]
  },
  {
   "cell_type": "code",
   "execution_count": 32,
   "metadata": {},
   "outputs": [
    {
     "name": "stdout",
     "output_type": "stream",
     "text": [
      "Adding new connection to the pool\n",
      "New connection added to the pool\n"
     ]
    }
   ],
   "source": [
    "# Attempt to get a third connection from the pool.\n",
    "# If the pool is exhausted (since the pool size is set to 2), add a new connection to the pool and then fetch it.\n",
    "\n",
    "try:\n",
    "    conn_3 = pool.get_connection()\n",
    "    print('Guest is connected')\n",
    "except:\n",
    "    print('Adding new connection to the pool')\n",
    "\n",
    "    connection = connector.connect(user='root', password='root')\n",
    "    pool.add_connection(cnx=connection)\n",
    "    print('New connection added to the pool')\n",
    "\n",
    "    conn_3 = pool.get_connection()"
   ]
  },
  {
   "cell_type": "code",
   "execution_count": 33,
   "metadata": {},
   "outputs": [
    {
     "name": "stdout",
     "output_type": "stream",
     "text": [
      "New booking added on Booking table\n"
     ]
    }
   ],
   "source": [
    "cursor_3 = conn_3.cursor()\n",
    "\n",
    "booking_3 = \"\"\"\n",
    "INSERT INTO Bookings\n",
    "(TableNo, GuestFirstName, GuestLastName, BookingSlot, EmployeeID)\n",
    "VALUES\n",
    "(12, 'Jay','Kon','19:30:00',6)\n",
    "\"\"\"\n",
    "\n",
    "cursor_3.execute(booking_3)\n",
    "conn_3.commit()\n",
    "print('New booking added on Booking table')"
   ]
  },
  {
   "cell_type": "code",
   "execution_count": 34,
   "metadata": {},
   "outputs": [
    {
     "name": "stdout",
     "output_type": "stream",
     "text": [
      "Connection returned to the pool\n",
      "Connection returned to the pool\n",
      "Connection can not return to the pool. \n",
      "Failed adding connection; queue is full\n"
     ]
    }
   ],
   "source": [
    "# Close all the pooled connections, returning them to the connection pool.\n",
    "\n",
    "for conn in [conn_1, conn_2, conn_3]:\n",
    "    try:\n",
    "        conn.close()\n",
    "        print('Connection returned to the pool')\n",
    "    except Error as err:\n",
    "        print('Connection can not return to the pool. \\n{}'.format(err.msg))"
   ]
  },
  {
   "cell_type": "code",
   "execution_count": 35,
   "metadata": {},
   "outputs": [
    {
     "name": "stdout",
     "output_type": "stream",
     "text": [
      "('Name', 'EmployeeID')\n",
      "('Mario Gollini', 1)\n"
     ]
    }
   ],
   "source": [
    "connection = pool.get_connection()\n",
    "cursor = connection.cursor()\n",
    "\n",
    "cursor.execute(\n",
    "    \"\"\"\n",
    "    SELECT\n",
    "    Name, EmployeeID\n",
    "    \n",
    "    FROM\n",
    "    Employees\n",
    "    \n",
    "    WHERE\n",
    "    Role = 'Manager'\n",
    "    \"\"\"\n",
    ")\n",
    "\n",
    "results = cursor.fetchall()\n",
    "columns = cursor.column_names\n",
    "\n",
    "print(columns)\n",
    "for i in results:\n",
    "    print(i)"
   ]
  },
  {
   "cell_type": "code",
   "execution_count": 36,
   "metadata": {},
   "outputs": [
    {
     "name": "stdout",
     "output_type": "stream",
     "text": [
      "('Name', 'EmployeeID')\n",
      "('Mario Gollini', 1)\n"
     ]
    }
   ],
   "source": [
    "cursor.execute(\n",
    "    \"\"\"\n",
    "    SELECT\n",
    "    Name, EmployeeID\n",
    "    \n",
    "    FROM\n",
    "    Employees\n",
    "    \n",
    "    ORDER BY\n",
    "    Annual_Salary DESC LIMIT 1\n",
    "    \"\"\"\n",
    ")\n",
    "\n",
    "results = cursor.fetchall()\n",
    "columns = cursor.column_names\n",
    "\n",
    "print(columns)\n",
    "for i in results:\n",
    "    print(i)"
   ]
  },
  {
   "cell_type": "code",
   "execution_count": 37,
   "metadata": {},
   "outputs": [
    {
     "name": "stdout",
     "output_type": "stream",
     "text": [
      "('No_Booking_18_20',)\n",
      "(7,)\n"
     ]
    }
   ],
   "source": [
    "cursor.execute(\n",
    "    \"\"\"\n",
    "    SELECT\n",
    "    COUNT(BookingID) AS No_Booking_18_20\n",
    "    \n",
    "    FROM\n",
    "    Bookings\n",
    "    \n",
    "    WHERE\n",
    "    BookingSlot BETWEEN '18:00:00' AND '20:00:00'\n",
    "    \"\"\"\n",
    ")\n",
    "\n",
    "results = cursor.fetchall()\n",
    "columns = cursor.column_names\n",
    "\n",
    "print(columns)\n",
    "for i in results:\n",
    "    print(i)"
   ]
  },
  {
   "cell_type": "code",
   "execution_count": 38,
   "metadata": {},
   "outputs": [
    {
     "name": "stdout",
     "output_type": "stream",
     "text": [
      "Guest waiting to be seated:\n",
      "\n",
      "('ID', 'GuestName', 'Employee')\n",
      "(9, 'Jay Kon', 'Receptionist')\n",
      "(8, 'Bald Vin', 'Receptionist')\n",
      "(7, 'Anees Java', 'Receptionist')\n"
     ]
    }
   ],
   "source": [
    "# Execute an SQL query to retrieve guests waiting to be seated.\n",
    "# The query joins the 'Bookings' and 'Employees' tables and filters by employee roles.\n",
    "\n",
    "cursor.execute(\n",
    "    \"\"\"\n",
    "    SELECT\n",
    "    Bookings.BookingID AS ID,\n",
    "    CONCAT(Bookings.GuestFirstName, ' ', Bookings.GuestLastName) AS GuestName, \n",
    "    Employees.Role AS Employee\n",
    "\n",
    "    FROM\n",
    "    Bookings\n",
    "\n",
    "    LEFT JOIN\n",
    "    Employees\n",
    "    ON\n",
    "    Employees.EmployeeID = Bookings.EmployeeID\n",
    "\n",
    "    WHERE\n",
    "    Employees.Role = 'Receptionist'\n",
    "\n",
    "    ORDER BY\n",
    "    BookingSlot DESC\n",
    "    \"\"\"\n",
    ")\n",
    "\n",
    "print('Guest waiting to be seated:\\n')\n",
    "\n",
    "results = cursor.fetchall()\n",
    "columns = cursor.column_names\n",
    "\n",
    "print(columns)\n",
    "for i in results:\n",
    "    print(i)"
   ]
  },
  {
   "cell_type": "code",
   "execution_count": 39,
   "metadata": {},
   "outputs": [
    {
     "name": "stdout",
     "output_type": "stream",
     "text": [
      "Sales report:\n",
      "\n",
      "\t Total_sale : 243\n",
      "\t Avg_sale : 48.6000\n",
      "\t Min_bill : 37\n",
      "\t Max_bill : 86\n"
     ]
    }
   ],
   "source": [
    "cursor.execute(\n",
    "    \"\"\"\n",
    "    DROP PROCEDURE IF EXISTS\n",
    "    BasicSalesReport\n",
    "    \"\"\"\n",
    ")\n",
    "# First, drop the 'BasicSalesReport' stored procedure if it already exists.\n",
    "# Then, define and create a stored procedure named 'BasicSalesReport' that calculates basic sales metrics.\n",
    "# The procedure fetches the total, average, minimum, and maximum bill amounts from the 'Orders' table.\n",
    "\n",
    "basic_sales_report = \"\"\"\n",
    "CREATE PROCEDURE\n",
    "BasicSalesReport()\n",
    "\n",
    "BEGIN\n",
    "\n",
    "SELECT\n",
    "SUM(BillAmount) AS Total_sale, \n",
    "AVG(BillAmount) AS Avg_sale, \n",
    "MIN(BillAmount) AS Min_bill, \n",
    "MAX(BillAmount) AS Max_bill\n",
    "\n",
    "FROM\n",
    "Orders;\n",
    "\n",
    "END\n",
    "\"\"\"\n",
    "\n",
    "cursor.execute(basic_sales_report)\n",
    "cursor.callproc('BasicSalesReport')\n",
    "\n",
    "results = next(cursor.stored_results())\n",
    "db = results.fetchall()\n",
    "\n",
    "for column_id in cursor.stored_results():\n",
    "    columns = [column[0] for column in column_id.description]\n",
    "\n",
    "print('Sales report:\\n')\n",
    "\n",
    "for r in db:\n",
    "    print(\"\\t\",columns[0],\":\",r[0])\n",
    "    print(\"\\t\",columns[1],\":\",r[1])\n",
    "    print(\"\\t\",columns[2],\":\",r[2])\n",
    "    print(\"\\t\",columns[3],\":\",r[3])\n",
    "\n",
    "connection.close()"
   ]
  },
  {
   "cell_type": "code",
   "execution_count": 40,
   "metadata": {},
   "outputs": [
    {
     "name": "stdout",
     "output_type": "stream",
     "text": [
      "('BookingSlot', 'GuestName', 'EmployeeName', 'EmployeeRole')\n",
      "(datetime.timedelta(seconds=54000), 'Vanessa McCarthy', 'Giorgos Dioudis', 'Head Chef')\n",
      "(datetime.timedelta(seconds=63000), 'Marcos Romero', 'Fatma Kaya', 'Assistant Chef')\n",
      "(datetime.timedelta(seconds=64800), 'Anees Java', 'John Millar', 'Receptionist')\n"
     ]
    }
   ],
   "source": [
    "# Execute an SQL query that joins the 'Bookings' and 'Employees' tables on EmployeeID.\n",
    "# The query retrieves booking slots, guest names, employee names, and their roles.\n",
    "# Results are ordered by booking slots in ascending order.\n",
    "\n",
    "connection = pool.get_connection()\n",
    "cursor = connection.cursor(buffered=True)\n",
    "\n",
    "query = \"\"\"\n",
    "SELECT\n",
    "Bookings.BookingSlot AS BookingSlot, \n",
    "CONCAT(Bookings.GuestFirstName, ' ', Bookings.GuestLastName) AS GuestName, \n",
    "Employees.Name AS EmployeeName, \n",
    "Employees.Role AS EmployeeRole\n",
    "\n",
    "FROM\n",
    "Bookings\n",
    "\n",
    "INNER JOIN\n",
    "Employees\n",
    "ON Employees.EmployeeID = Bookings.EmployeeID\n",
    "\n",
    "ORDER BY\n",
    "Bookings.BookingSlot ASC\n",
    "\"\"\"\n",
    "\n",
    "cursor.execute(query)\n",
    "results = cursor.fetchmany(size = 3)\n",
    "\n",
    "columns = cursor.column_names\n",
    "\n",
    "print(columns)\n",
    "for i in results:\n",
    "    print(i)\n",
    "\n",
    "connection.close()"
   ]
  }
 ],
 "metadata": {
  "kernelspec": {
   "display_name": "tf",
   "language": "python",
   "name": "python3"
  },
  "language_info": {
   "codemirror_mode": {
    "name": "ipython",
    "version": 3
   },
   "file_extension": ".py",
   "mimetype": "text/x-python",
   "name": "python",
   "nbconvert_exporter": "python",
   "pygments_lexer": "ipython3",
   "version": "3.9.16"
  },
  "orig_nbformat": 4
 },
 "nbformat": 4,
 "nbformat_minor": 2
}
